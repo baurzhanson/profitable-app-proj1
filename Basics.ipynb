{
 "cells": [
  {
   "cell_type": "markdown",
   "metadata": {},
   "source": [
    "\n",
    "# Profitable App Profiles for the App Store and Google Play Markets\n",
    "\n",
    "\n",
    "## From the information collected from 7200 apps, we try to help developers understand what type of apps attract more users.\n"
   ]
  },
  {
   "cell_type": "markdown",
   "metadata": {},
   "source": [
    "Links for datasets, if you are interested and/or going to use it:\n",
    "\n",
    "- [Apps Store](https://www.kaggle.com/datasets/ramamet4/app-store-apple-data-set-10k-apps?select=appleStore_description.csv)\n",
    "    \n",
    "- [Google Play](https://www.kaggle.com/datasets/lava18/google-play-store-apps)"
   ]
  },
  {
   "cell_type": "markdown",
   "metadata": {},
   "source": [
    "This is my first data analysis project, thanks to DataQuest. \n",
    "I used simple methods for cleaning data and showing the results. Discovered some techniques, such as _frequency table_.  "
   ]
  },
  {
   "cell_type": "markdown",
   "metadata": {},
   "source": [
    "Opening and Reading our Datasets"
   ]
  },
  {
   "cell_type": "code",
   "execution_count": 3,
   "metadata": {},
   "outputs": [],
   "source": [
    "open_appst = open('AppleStore.csv')\n",
    "open_gplayst = open('googleplaystore.csv')\n",
    "from csv import reader\n",
    "read_appst = reader(open_appst)\n",
    "read_gplayst = reader(open_gplayst)\n",
    "apps_data = list(read_appst)\n",
    "gplay_data = list(read_gplayst)"
   ]
  },
  {
   "cell_type": "markdown",
   "metadata": {},
   "source": [
    "Function `explore_data()` helps us to read, slice and print necessary data"
   ]
  },
  {
   "cell_type": "code",
   "execution_count": 4,
   "metadata": {},
   "outputs": [],
   "source": [
    "def explore_data(dataset, start, end, rows_and_columns=False):\n",
    "    dataset_slice = dataset[start:end]    \n",
    "    for row in dataset_slice:\n",
    "        print(row)\n",
    "        print('\\n') # adds a new (empty) line after each row\n",
    "\n",
    "    if rows_and_columns:\n",
    "        print('Number of rows:', len(dataset))\n",
    "        print('Number of columns:', len(dataset[0]))"
   ]
  },
  {
   "cell_type": "code",
   "execution_count": 5,
   "metadata": {},
   "outputs": [
    {
     "name": "stdout",
     "output_type": "stream",
     "text": [
      "['id', 'track_name', 'size_bytes', 'currency', 'price', 'rating_count_tot', 'rating_count_ver', 'user_rating', 'user_rating_ver', 'ver', 'cont_rating', 'prime_genre', 'sup_devices.num', 'ipadSc_urls.num', 'lang.num', 'vpp_lic']\n",
      "\n",
      "\n",
      "['284882215', 'Facebook', '389879808', 'USD', '0.0', '2974676', '212', '3.5', '3.5', '95.0', '4+', 'Social Networking', '37', '1', '29', '1']\n",
      "\n",
      "\n",
      "Number of rows: 7198\n",
      "Number of columns: 16\n"
     ]
    }
   ],
   "source": [
    "explore_data(apps_data, 0, 2, True)"
   ]
  },
  {
   "cell_type": "code",
   "execution_count": 6,
   "metadata": {},
   "outputs": [
    {
     "name": "stdout",
     "output_type": "stream",
     "text": [
      "['TownWiFi | Wi-Fi Everywhere', 'COMMUNICATION', '3.9', '2372', '58M', '500,000+', 'Free', '0', 'Everyone', 'Communication', 'August 2, 2018', '4.2.1', '4.2 and up']\n",
      "\n",
      "\n",
      "['Jazz Wi-Fi', 'COMMUNICATION', '3.4', '49', '4.0M', '10,000+', 'Free', '0', 'Everyone', 'Communication', 'February 10, 2017', '0.1', '2.3 and up']\n",
      "\n",
      "\n",
      "['Xposed Wi-Fi-Pwd', 'PERSONALIZATION', '3.5', '1042', '404k', '100,000+', 'Free', '0', 'Everyone', 'Personalization', 'August 5, 2014', '3.0.0', '4.0.3 and up']\n",
      "\n",
      "\n",
      "['Life Made WI-Fi Touchscreen Photo Frame', '1.9', '19', '3.0M', '1,000+', 'Free', '0', 'Everyone', '', 'February 11, 2018', '1.0.19', '4.0 and up']\n",
      "\n",
      "\n",
      "Number of rows: 10842\n",
      "Number of columns: 13\n"
     ]
    }
   ],
   "source": [
    "explore_data(gplay_data, 10470,10474, True)"
   ]
  },
  {
   "cell_type": "code",
   "execution_count": 7,
   "metadata": {},
   "outputs": [],
   "source": [
    "del gplay_data[10473]"
   ]
  },
  {
   "cell_type": "markdown",
   "metadata": {},
   "source": [
    "It often happens that while collecting data, some data can be duplicated. "
   ]
  },
  {
   "cell_type": "code",
   "execution_count": 8,
   "metadata": {},
   "outputs": [
    {
     "name": "stdout",
     "output_type": "stream",
     "text": [
      "Number of duplicated apps: 1181\n",
      "\n",
      "\n",
      "Examples of duplicated apps: ['Quick PDF Scanner + OCR FREE', 'Box', 'Google My Business', 'ZOOM Cloud Meetings', 'join.me - Simple Meetings', 'Box', 'Zenefits', 'Google Ads', 'Google My Business', 'Slack', 'FreshBooks Classic', 'Insightly CRM', 'QuickBooks Accounting: Invoicing & Expenses', 'HipChat - Chat Built for Teams', 'Xero Accounting Software', 'MailChimp - Email, Marketing Automation', 'Crew - Free Messaging and Scheduling', 'Asana: organize team projects', 'Google Analytics', 'AdWords Express']\n"
     ]
    }
   ],
   "source": [
    "duplicate_apps = []\n",
    "unique_apps = []\n",
    "for app in gplay_data:\n",
    "    name = app[0]\n",
    "    if name in unique_apps:\n",
    "        duplicate_apps.append(name)\n",
    "    else:\n",
    "        unique_apps.append(name)\n",
    "print('Number of duplicated apps:', len(duplicate_apps))\n",
    "print('\\n')\n",
    "print('Examples of duplicated apps:', duplicate_apps[:20])"
   ]
  },
  {
   "cell_type": "markdown",
   "metadata": {},
   "source": [
    "There are many ways to clean duplicate data, but in this case, I will leave data with the most reviews (or installs), because it shows the recency of data."
   ]
  },
  {
   "cell_type": "code",
   "execution_count": 9,
   "metadata": {},
   "outputs": [
    {
     "name": "stdout",
     "output_type": "stream",
     "text": [
      "Expected num of apps after cleaning: 9659\n",
      "Our dictionary with maximum num of reviews contains 9659 apps\n"
     ]
    }
   ],
   "source": [
    "print('Expected num of apps after cleaning:', len(gplay_data[1:]) - 1181)\n",
    "reviews_max = {}\n",
    "for row in gplay_data[1:]:\n",
    "    name = row[0]\n",
    "    n_reviews = float(row[3])\n",
    "    if name in reviews_max and reviews_max[name] < n_reviews:\n",
    "        reviews_max[name] = n_reviews\n",
    "    if name not in reviews_max:\n",
    "        reviews_max[name] = n_reviews\n",
    "print('Our dictionary with maximum num of reviews contains', len(reviews_max), 'apps')"
   ]
  },
  {
   "cell_type": "markdown",
   "metadata": {},
   "source": [
    "So we are creating two lists: one for inserting whole information about an app and other for checking whether we added that app or not. And after the whole process, we are printing the length of both apps and few rows of our cleaned data to check."
   ]
  },
  {
   "cell_type": "code",
   "execution_count": 10,
   "metadata": {},
   "outputs": [
    {
     "name": "stdout",
     "output_type": "stream",
     "text": [
      "Length of clean data: 9659\n",
      "Length of list with each apps' name: 9659\n",
      "\n",
      "\n",
      "[['Photo Editor & Candy Camera & Grid & ScrapBook', 'ART_AND_DESIGN', '4.1', '159', '19M', '10,000+', 'Free', '0', 'Everyone', 'Art & Design', 'January 7, 2018', '1.0.0', '4.0.3 and up'], ['U Launcher Lite – FREE Live Cool Themes, Hide Apps', 'ART_AND_DESIGN', '4.7', '87510', '8.7M', '5,000,000+', 'Free', '0', 'Everyone', 'Art & Design', 'August 1, 2018', '1.2.4', '4.0.3 and up'], ['Sketch - Draw & Paint', 'ART_AND_DESIGN', '4.5', '215644', '25M', '50,000,000+', 'Free', '0', 'Teen', 'Art & Design', 'June 8, 2018', 'Varies with device', '4.2 and up']]\n"
     ]
    }
   ],
   "source": [
    "android_clean = []\n",
    "already_added = []\n",
    "for row in gplay_data[1:]:\n",
    "    name = row[0]\n",
    "    n_reviews = float(row[3])\n",
    "    if n_reviews == reviews_max[name] and name not in already_added:\n",
    "        android_clean.append(row)\n",
    "        already_added.append(name)\n",
    "print('Length of clean data:', len(android_clean))\n",
    "print('Length of list with each apps\\' name:', len(already_added))\n",
    "print('\\n')\n",
    "print(android_clean[:3])"
   ]
  },
  {
   "cell_type": "code",
   "execution_count": 11,
   "metadata": {},
   "outputs": [],
   "source": [
    "def isEnglish(app_name):\n",
    "    nonengcount = 0\n",
    "    for ch in app_name:\n",
    "        ascii_code = ord(ch)\n",
    "        if ascii_code > 127:\n",
    "            nonengcount += 1\n",
    "        if nonengcount > 3:\n",
    "            return False\n",
    "    return True"
   ]
  },
  {
   "cell_type": "code",
   "execution_count": 12,
   "metadata": {},
   "outputs": [
    {
     "name": "stdout",
     "output_type": "stream",
     "text": [
      "True\n",
      "False\n",
      "True\n",
      "True\n"
     ]
    }
   ],
   "source": [
    "print(isEnglish('Instagram'))\n",
    "print(isEnglish('爱奇艺PPS -《欢乐颂2》电视剧热播'))\n",
    "print(isEnglish('Docs To Go™ Free Office Suite'))\n",
    "print(isEnglish('Instachat 😜'))"
   ]
  },
  {
   "cell_type": "code",
   "execution_count": 13,
   "metadata": {},
   "outputs": [
    {
     "name": "stdout",
     "output_type": "stream",
     "text": [
      "Let's compare the lengths of before and after cleaning non-English apps\n",
      "For Apple, before cleaning was 7197 apps and after cleaning remain 6183 apps\n",
      "For Android, before cleaning was 9659 apps and after cleaning remain 9614 apps\n"
     ]
    }
   ],
   "source": [
    "apple_clean = []\n",
    "android_cleaner = []\n",
    "for row in apps_data[1:]:\n",
    "    name = row[1]\n",
    "    if isEnglish(name):\n",
    "        apple_clean.append(row)\n",
    "for row in android_clean:\n",
    "    name = row[0]\n",
    "    if isEnglish(name):\n",
    "        android_cleaner.append(row)\n",
    "print('Let\\'s compare the lengths of before and after cleaning non-English apps')\n",
    "print('For Apple, before cleaning was',len(apps_data[1:]), 'apps and after cleaning remain', len(apple_clean),'apps')    \n",
    "print('For Android, before cleaning was',len(android_clean), 'apps and after cleaning remain', len(android_cleaner),'apps')"
   ]
  },
  {
   "cell_type": "code",
   "execution_count": 14,
   "metadata": {},
   "outputs": [
    {
     "data": {
      "text/plain": [
       "[['App',\n",
       "  'Category',\n",
       "  'Rating',\n",
       "  'Reviews',\n",
       "  'Size',\n",
       "  'Installs',\n",
       "  'Type',\n",
       "  'Price',\n",
       "  'Content Rating',\n",
       "  'Genres',\n",
       "  'Last Updated',\n",
       "  'Current Ver',\n",
       "  'Android Ver'],\n",
       " ['Photo Editor & Candy Camera & Grid & ScrapBook',\n",
       "  'ART_AND_DESIGN',\n",
       "  '4.1',\n",
       "  '159',\n",
       "  '19M',\n",
       "  '10,000+',\n",
       "  'Free',\n",
       "  '0',\n",
       "  'Everyone',\n",
       "  'Art & Design',\n",
       "  'January 7, 2018',\n",
       "  '1.0.0',\n",
       "  '4.0.3 and up']]"
      ]
     },
     "execution_count": 14,
     "metadata": {},
     "output_type": "execute_result"
    }
   ],
   "source": [
    "gplay_data[:2]"
   ]
  },
  {
   "cell_type": "code",
   "execution_count": 15,
   "metadata": {},
   "outputs": [
    {
     "data": {
      "text/plain": [
       "[['id',\n",
       "  'track_name',\n",
       "  'size_bytes',\n",
       "  'currency',\n",
       "  'price',\n",
       "  'rating_count_tot',\n",
       "  'rating_count_ver',\n",
       "  'user_rating',\n",
       "  'user_rating_ver',\n",
       "  'ver',\n",
       "  'cont_rating',\n",
       "  'prime_genre',\n",
       "  'sup_devices.num',\n",
       "  'ipadSc_urls.num',\n",
       "  'lang.num',\n",
       "  'vpp_lic'],\n",
       " ['284882215',\n",
       "  'Facebook',\n",
       "  '389879808',\n",
       "  'USD',\n",
       "  '0.0',\n",
       "  '2974676',\n",
       "  '212',\n",
       "  '3.5',\n",
       "  '3.5',\n",
       "  '95.0',\n",
       "  '4+',\n",
       "  'Social Networking',\n",
       "  '37',\n",
       "  '1',\n",
       "  '29',\n",
       "  '1'],\n",
       " ['389801252',\n",
       "  'Instagram',\n",
       "  '113954816',\n",
       "  'USD',\n",
       "  '0.0',\n",
       "  '2161558',\n",
       "  '1289',\n",
       "  '4.5',\n",
       "  '4.0',\n",
       "  '10.23',\n",
       "  '12+',\n",
       "  'Photo & Video',\n",
       "  '37',\n",
       "  '0',\n",
       "  '29',\n",
       "  '1']]"
      ]
     },
     "execution_count": 15,
     "metadata": {},
     "output_type": "execute_result"
    }
   ],
   "source": [
    "apps_data[:3]"
   ]
  },
  {
   "cell_type": "markdown",
   "metadata": {},
   "source": [
    "Removing paid apps and leaving free apps only.\n",
    "During the cleaning, I found that app named _Command & Conquer: Rivals_ has price of 0 but type of NaN instead of _free_."
   ]
  },
  {
   "cell_type": "code",
   "execution_count": 16,
   "metadata": {},
   "outputs": [
    {
     "name": "stdout",
     "output_type": "stream",
     "text": [
      "9614\n",
      "8864\n"
     ]
    }
   ],
   "source": [
    "android_free = []\n",
    "for row in android_cleaner:\n",
    "    #if row[6] == 'Free':\n",
    "    if row[7] == '0':    \n",
    "        android_free.append(row)\n",
    "        '''\n",
    "        if row[6] != 'Free':\n",
    "            print(row[0])\n",
    "        '''\n",
    "print(len(android_cleaner))\n",
    "print(len(android_free))"
   ]
  },
  {
   "cell_type": "code",
   "execution_count": 17,
   "metadata": {},
   "outputs": [
    {
     "name": "stdout",
     "output_type": "stream",
     "text": [
      "6183\n",
      "3222\n"
     ]
    }
   ],
   "source": [
    "apple_free = []\n",
    "for row in apple_clean:\n",
    "    if float(row[4]) == 0.0:\n",
    "        apple_free.append(row)\n",
    "print(len(apple_clean))\n",
    "print(len(apple_free))"
   ]
  },
  {
   "cell_type": "markdown",
   "metadata": {},
   "source": [
    "To minimize risks and overhead, our validation strategy for an app idea has three steps:\n",
    "\n",
    "1. Build a minimal Android version of the app, and add it to Google Play.\n",
    "2. If the app has a good response from users, we develop it further.\n",
    "3. If the app is profitable after six months, we build an iOS version of the app and add it to the App Store.\n",
    "\n",
    "Why do we have this validation strategy? From observations above, we can see that 92% of the Google Play apps are free, comparing to only half of the apps on App Store. We guess that it is much harder to upload free apps on App Store, so we need to have quality app on Google Play to upload it to Apple products."
   ]
  },
  {
   "cell_type": "code",
   "execution_count": 18,
   "metadata": {},
   "outputs": [
    {
     "name": "stdout",
     "output_type": "stream",
     "text": [
      "FAMILY : 18.907942238267147\n",
      "GAME : 9.724729241877256\n",
      "TOOLS : 8.461191335740072\n",
      "BUSINESS : 4.591606498194946\n",
      "LIFESTYLE : 3.9034296028880866\n",
      "PRODUCTIVITY : 3.892148014440433\n",
      "FINANCE : 3.7003610108303246\n",
      "MEDICAL : 3.531137184115524\n",
      "SPORTS : 3.395758122743682\n",
      "PERSONALIZATION : 3.3167870036101084\n",
      "COMMUNICATION : 3.2378158844765346\n",
      "HEALTH_AND_FITNESS : 3.0798736462093865\n",
      "PHOTOGRAPHY : 2.944494584837545\n",
      "NEWS_AND_MAGAZINES : 2.7978339350180503\n",
      "SOCIAL : 2.6624548736462095\n",
      "TRAVEL_AND_LOCAL : 2.33528880866426\n",
      "SHOPPING : 2.2450361010830324\n",
      "BOOKS_AND_REFERENCE : 2.1435018050541514\n",
      "DATING : 1.861462093862816\n",
      "VIDEO_PLAYERS : 1.7937725631768955\n",
      "MAPS_AND_NAVIGATION : 1.3989169675090252\n",
      "FOOD_AND_DRINK : 1.2409747292418771\n",
      "EDUCATION : 1.1620036101083033\n",
      "ENTERTAINMENT : 0.9589350180505415\n",
      "LIBRARIES_AND_DEMO : 0.9363718411552346\n",
      "AUTO_AND_VEHICLES : 0.9250902527075812\n",
      "HOUSE_AND_HOME : 0.8235559566787004\n",
      "WEATHER : 0.8009927797833934\n",
      "EVENTS : 0.7107400722021661\n",
      "PARENTING : 0.6543321299638989\n",
      "ART_AND_DESIGN : 0.6430505415162455\n",
      "COMICS : 0.6204873646209386\n",
      "BEAUTY : 0.5979241877256317\n",
      "Tools : 8.449909747292418\n",
      "Entertainment : 6.069494584837545\n",
      "Education : 5.347472924187725\n",
      "Business : 4.591606498194946\n",
      "Productivity : 3.892148014440433\n",
      "Lifestyle : 3.892148014440433\n",
      "Finance : 3.7003610108303246\n",
      "Medical : 3.531137184115524\n",
      "Sports : 3.463447653429603\n",
      "Personalization : 3.3167870036101084\n",
      "Communication : 3.2378158844765346\n",
      "Action : 3.1024368231046933\n",
      "Health & Fitness : 3.0798736462093865\n",
      "Photography : 2.944494584837545\n",
      "News & Magazines : 2.7978339350180503\n",
      "Social : 2.6624548736462095\n",
      "Travel & Local : 2.3240072202166067\n",
      "Shopping : 2.2450361010830324\n",
      "Books & Reference : 2.1435018050541514\n",
      "Simulation : 2.0419675090252705\n",
      "Dating : 1.861462093862816\n",
      "Arcade : 1.8501805054151623\n",
      "Video Players & Editors : 1.7712093862815883\n",
      "Casual : 1.7599277978339352\n",
      "Maps & Navigation : 1.3989169675090252\n",
      "Food & Drink : 1.2409747292418771\n",
      "Puzzle : 1.128158844765343\n",
      "Racing : 0.9927797833935018\n",
      "Role Playing : 0.9363718411552346\n",
      "Libraries & Demo : 0.9363718411552346\n",
      "Auto & Vehicles : 0.9250902527075812\n",
      "Strategy : 0.9138086642599278\n",
      "House & Home : 0.8235559566787004\n",
      "Weather : 0.8009927797833934\n",
      "Events : 0.7107400722021661\n",
      "Adventure : 0.6768953068592057\n",
      "Comics : 0.6092057761732852\n",
      "Beauty : 0.5979241877256317\n",
      "Art & Design : 0.5979241877256317\n",
      "Parenting : 0.4963898916967509\n",
      "Card : 0.45126353790613716\n",
      "Casino : 0.42870036101083037\n",
      "Trivia : 0.41741877256317694\n",
      "Educational;Education : 0.39485559566787\n",
      "Board : 0.3835740072202166\n",
      "Educational : 0.3722924187725632\n",
      "Education;Education : 0.33844765342960287\n",
      "Word : 0.2594765342960289\n",
      "Casual;Pretend Play : 0.236913357400722\n",
      "Music : 0.2030685920577617\n",
      "Racing;Action & Adventure : 0.16922382671480143\n",
      "Puzzle;Brain Games : 0.16922382671480143\n",
      "Entertainment;Music & Video : 0.16922382671480143\n",
      "Casual;Brain Games : 0.13537906137184114\n",
      "Casual;Action & Adventure : 0.13537906137184114\n",
      "Arcade;Action & Adventure : 0.12409747292418773\n",
      "Action;Action & Adventure : 0.10153429602888085\n",
      "Educational;Pretend Play : 0.09025270758122744\n",
      "Simulation;Action & Adventure : 0.078971119133574\n",
      "Parenting;Education : 0.078971119133574\n",
      "Entertainment;Brain Games : 0.078971119133574\n",
      "Board;Brain Games : 0.078971119133574\n",
      "Parenting;Music & Video : 0.06768953068592057\n",
      "Educational;Brain Games : 0.06768953068592057\n",
      "Casual;Creativity : 0.06768953068592057\n",
      "Art & Design;Creativity : 0.06768953068592057\n",
      "Education;Pretend Play : 0.056407942238267145\n",
      "Role Playing;Pretend Play : 0.04512635379061372\n",
      "Education;Creativity : 0.04512635379061372\n",
      "Role Playing;Action & Adventure : 0.033844765342960284\n",
      "Puzzle;Action & Adventure : 0.033844765342960284\n",
      "Entertainment;Creativity : 0.033844765342960284\n",
      "Entertainment;Action & Adventure : 0.033844765342960284\n",
      "Educational;Creativity : 0.033844765342960284\n",
      "Educational;Action & Adventure : 0.033844765342960284\n",
      "Education;Music & Video : 0.033844765342960284\n",
      "Education;Brain Games : 0.033844765342960284\n",
      "Education;Action & Adventure : 0.033844765342960284\n",
      "Adventure;Action & Adventure : 0.033844765342960284\n",
      "Video Players & Editors;Music & Video : 0.02256317689530686\n",
      "Sports;Action & Adventure : 0.02256317689530686\n",
      "Simulation;Pretend Play : 0.02256317689530686\n",
      "Puzzle;Creativity : 0.02256317689530686\n",
      "Music;Music & Video : 0.02256317689530686\n",
      "Entertainment;Pretend Play : 0.02256317689530686\n",
      "Casual;Education : 0.02256317689530686\n",
      "Board;Action & Adventure : 0.02256317689530686\n",
      "Video Players & Editors;Creativity : 0.01128158844765343\n",
      "Trivia;Education : 0.01128158844765343\n",
      "Travel & Local;Action & Adventure : 0.01128158844765343\n",
      "Tools;Education : 0.01128158844765343\n",
      "Strategy;Education : 0.01128158844765343\n",
      "Strategy;Creativity : 0.01128158844765343\n",
      "Strategy;Action & Adventure : 0.01128158844765343\n",
      "Simulation;Education : 0.01128158844765343\n",
      "Role Playing;Brain Games : 0.01128158844765343\n",
      "Racing;Pretend Play : 0.01128158844765343\n",
      "Puzzle;Education : 0.01128158844765343\n",
      "Parenting;Brain Games : 0.01128158844765343\n",
      "Music & Audio;Music & Video : 0.01128158844765343\n",
      "Lifestyle;Pretend Play : 0.01128158844765343\n",
      "Lifestyle;Education : 0.01128158844765343\n",
      "Health & Fitness;Education : 0.01128158844765343\n",
      "Health & Fitness;Action & Adventure : 0.01128158844765343\n",
      "Entertainment;Education : 0.01128158844765343\n",
      "Communication;Creativity : 0.01128158844765343\n",
      "Comics;Creativity : 0.01128158844765343\n",
      "Casual;Music & Video : 0.01128158844765343\n",
      "Card;Action & Adventure : 0.01128158844765343\n",
      "Books & Reference;Education : 0.01128158844765343\n",
      "Art & Design;Pretend Play : 0.01128158844765343\n",
      "Art & Design;Action & Adventure : 0.01128158844765343\n",
      "Arcade;Pretend Play : 0.01128158844765343\n",
      "Adventure;Education : 0.01128158844765343\n",
      "Games : 58.16263190564867\n",
      "Entertainment : 7.883302296710118\n",
      "Photo & Video : 4.9658597144630665\n",
      "Education : 3.662321539416512\n",
      "Social Networking : 3.2898820608317814\n",
      "Shopping : 2.60707635009311\n",
      "Utilities : 2.5139664804469275\n",
      "Sports : 2.1415270018621975\n",
      "Music : 2.0484171322160147\n",
      "Health & Fitness : 2.0173805090006205\n",
      "Productivity : 1.7380509000620732\n",
      "Lifestyle : 1.5828677839851024\n",
      "News : 1.3345747982619491\n",
      "Travel : 1.2414649286157666\n",
      "Finance : 1.1173184357541899\n",
      "Weather : 0.8690254500310366\n",
      "Food & Drink : 0.8069522036002483\n",
      "Reference : 0.5586592178770949\n",
      "Business : 0.5276225946617008\n",
      "Book : 0.4345127250155183\n",
      "Navigation : 0.186219739292365\n",
      "Medical : 0.186219739292365\n",
      "Catalogs : 0.12414649286157665\n"
     ]
    }
   ],
   "source": [
    "def display_table(dataset, index):\n",
    "    table = freq_table(dataset, index)\n",
    "    table_display = []\n",
    "    for key in table:\n",
    "        key_val_as_tuple = (table[key], key)\n",
    "        table_display.append(key_val_as_tuple)\n",
    "\n",
    "    table_sorted = sorted(table_display, reverse = True)\n",
    "    for entry in table_sorted:\n",
    "        print(entry[1], ':', entry[0])\n",
    "        \n",
    "\n",
    "def freq_table(dataset, index):\n",
    "    freq_dict = {}\n",
    "    leng = len(dataset)\n",
    "    for row in dataset:\n",
    "        val = row[index]\n",
    "        if val in freq_dict:\n",
    "            freq_dict[val] += 1\n",
    "        else:\n",
    "            freq_dict[val] = 1\n",
    "    for key in freq_dict:\n",
    "        freq_dict[key] /= leng\n",
    "        freq_dict[key] *= 100\n",
    "    return freq_dict\n",
    "display_table(android_free, 1)\n",
    "display_table(android_free, 9)\n",
    "display_table(apple_free, 11)"
   ]
  },
  {
   "cell_type": "markdown",
   "metadata": {},
   "source": [
    "1. From the `prime_genre` column of App Store, we can actually observe that the most common genre is Games, containing 58% of all apps and more than all apps combined. Next common genre is entertainment. Actually, Apple users install more entertainment apps rather than practicial.\n",
    "\n",
    "2. On the other hand, Android users install more of the practical apps. From category column, we can see that Family, Tools, Business, Lifestyle and Productivity genres are more used (although in between we have Games). Almost same with genres column, only difference is entertainment instead of games."
   ]
  },
  {
   "cell_type": "code",
   "execution_count": 19,
   "metadata": {},
   "outputs": [
    {
     "name": "stdout",
     "output_type": "stream",
     "text": [
      "[[86090.33333333333, 'Navigation'], [74942.11111111111, 'Reference'], [71548.34905660378, 'Social Networking'], [57326.530303030304, 'Music'], [52279.892857142855, 'Weather'], [39758.5, 'Book'], [33333.92307692308, 'Food & Drink'], [31467.944444444445, 'Finance'], [28441.54375, 'Photo & Video'], [28243.8, 'Travel'], [26919.690476190477, 'Shopping'], [23298.015384615384, 'Health & Fitness'], [23008.898550724636, 'Sports'], [22788.6696905016, 'Games'], [21248.023255813954, 'News'], [21028.410714285714, 'Productivity'], [18684.456790123455, 'Utilities'], [16485.764705882353, 'Lifestyle'], [14029.830708661417, 'Entertainment'], [7491.117647058823, 'Business'], [7003.983050847458, 'Education'], [4004.0, 'Catalogs'], [612.0, 'Medical']]\n"
     ]
    }
   ],
   "source": [
    "apple_genres = freq_table(apple_free, 11)\n",
    "genre_rat = []\n",
    "for genre in apple_genres:\n",
    "    total = 0\n",
    "    len_genre = 0\n",
    "    for row in apple_free:\n",
    "        genre_app = row[11]\n",
    "        if genre_app == genre:\n",
    "            total += float(row[5])\n",
    "            len_genre += 1\n",
    "    genre_rat.append([total / len_genre, genre])\n",
    "genre_rat = sorted(genre_rat, reverse=True)\n",
    "print(genre_rat)"
   ]
  },
  {
   "cell_type": "markdown",
   "metadata": {},
   "source": [
    "Most of the average installation belongs to the 'Navigation' genre. We think this is because it is vital for users not to get lost in cities and other locations, thus they will install these apps."
   ]
  },
  {
   "cell_type": "code",
   "execution_count": 23,
   "metadata": {},
   "outputs": [
    {
     "name": "stdout",
     "output_type": "stream",
     "text": [
      "[[38456119.167247385, 'COMMUNICATION'], [24727872.452830188, 'VIDEO_PLAYERS'], [23253652.127118643, 'SOCIAL'], [17840110.40229885, 'PHOTOGRAPHY'], [16787331.344927534, 'PRODUCTIVITY'], [15588015.603248259, 'GAME'], [13984077.710144928, 'TRAVEL_AND_LOCAL'], [11640705.88235294, 'ENTERTAINMENT'], [10801391.298666667, 'TOOLS'], [9549178.467741935, 'NEWS_AND_MAGAZINES'], [8767811.894736841, 'BOOKS_AND_REFERENCE'], [7036877.311557789, 'SHOPPING'], [5201482.6122448975, 'PERSONALIZATION'], [5074486.197183099, 'WEATHER'], [4188821.9853479853, 'HEALTH_AND_FITNESS'], [4056941.7741935486, 'MAPS_AND_NAVIGATION'], [3695641.8198090694, 'FAMILY'], [3638640.1428571427, 'SPORTS'], [1986335.0877192982, 'ART_AND_DESIGN'], [1924897.7363636363, 'FOOD_AND_DRINK'], [1833495.145631068, 'EDUCATION'], [1712290.1474201474, 'BUSINESS'], [1437816.2687861272, 'LIFESTYLE'], [1387692.475609756, 'FINANCE'], [1331540.5616438356, 'HOUSE_AND_HOME'], [854028.8303030303, 'DATING'], [817657.2727272727, 'COMICS'], [647317.8170731707, 'AUTO_AND_VEHICLES'], [638503.734939759, 'LIBRARIES_AND_DEMO'], [542603.6206896552, 'PARENTING'], [513151.88679245283, 'BEAUTY'], [253542.22222222222, 'EVENTS'], [120550.61980830671, 'MEDICAL']]\n"
     ]
    }
   ],
   "source": [
    "android_genres = freq_table(android_free, 1)\n",
    "category_ins = []\n",
    "for category in android_genres:\n",
    "    total = 0\n",
    "    len_category = 0\n",
    "    for row in android_free:\n",
    "        category_app = row[1]\n",
    "        if category_app == category:\n",
    "            inst = row[5]\n",
    "            inst = inst.replace(\"+\", \"\")\n",
    "            inst = inst.replace(\",\", \"\")\n",
    "            total += float(inst)\n",
    "            len_category += 1\n",
    "    #print(category, category_app, len_category)\n",
    "    category_ins.append([total / len_category, category])\n",
    "category_ins = sorted(category_ins, reverse=True)\n",
    "print(category_ins)"
   ]
  },
  {
   "cell_type": "code",
   "execution_count": 25,
   "metadata": {},
   "outputs": [
    {
     "name": "stdout",
     "output_type": "stream",
     "text": [
      "WhatsApp Messenger 1,000,000,000+\n",
      "Messenger for SMS 10,000,000+\n",
      "My Tele2 5,000,000+\n",
      "imo beta free calls and text 100,000,000+\n",
      "Contacts 50,000,000+\n",
      "Call Free – Free Call 5,000,000+\n",
      "Web Browser & Explorer 5,000,000+\n",
      "Browser 4G 10,000,000+\n",
      "MegaFon Dashboard 10,000,000+\n",
      "ZenUI Dialer & Contacts 10,000,000+\n",
      "Cricket Visual Voicemail 10,000,000+\n",
      "TracFone My Account 1,000,000+\n",
      "Xperia Link™ 10,000,000+\n",
      "TouchPal Keyboard - Fun Emoji & Android Keyboard 10,000,000+\n",
      "Skype Lite - Free Video Call & Chat 5,000,000+\n",
      "My magenta 1,000,000+\n",
      "Android Messages 100,000,000+\n",
      "Google Duo - High Quality Video Calls 500,000,000+\n",
      "Seznam.cz 1,000,000+\n",
      "Antillean Gold Telegram (original version) 100,000+\n",
      "AT&T Visual Voicemail 10,000,000+\n",
      "GMX Mail 10,000,000+\n",
      "Omlet Chat 10,000,000+\n",
      "My Vodacom SA 5,000,000+\n",
      "Microsoft Edge 5,000,000+\n",
      "Messenger – Text and Video Chat for Free 1,000,000,000+\n",
      "imo free video calls and chat 500,000,000+\n",
      "Calls & Text by Mo+ 5,000,000+\n",
      "free video calls and chat 50,000,000+\n",
      "Skype - free IM & video calls 1,000,000,000+\n",
      "Who 100,000,000+\n",
      "GO SMS Pro - Messenger, Free Themes, Emoji 100,000,000+\n",
      "Messaging+ SMS, MMS Free 1,000,000+\n",
      "chomp SMS 10,000,000+\n",
      "Glide - Video Chat Messenger 10,000,000+\n",
      "Text SMS 10,000,000+\n",
      "Talkray - Free Calls & Texts 10,000,000+\n",
      "LINE: Free Calls & Messages 500,000,000+\n",
      "GroupMe 10,000,000+\n",
      "mysms SMS Text Messaging Sync 1,000,000+\n",
      "2ndLine - Second Phone Number 1,000,000+\n",
      "Google Chrome: Fast & Secure 1,000,000,000+\n",
      "Firefox Browser fast & private 100,000,000+\n",
      "Ninesky Browser 1,000,000+\n",
      "Dolphin Browser - Fast, Private & Adblock🐬 50,000,000+\n",
      "UC Browser - Fast Download Private & Secure 500,000,000+\n",
      "Ghostery Privacy Browser 1,000,000+\n",
      "InBrowser - Incognito Browsing 1,000,000+\n",
      "Lightning Web Browser 500,000+\n",
      "Web Browser 500,000+\n",
      "Contacts+ 10,000,000+\n",
      "ExDialer - Dialer & Contacts 10,000,000+\n",
      "PHONE for Google Voice & GTalk 1,000,000+\n",
      "Safest Call Blocker 1,000,000+\n",
      "Full Screen Caller ID 5,000,000+\n",
      "Hiya - Caller ID & Block 10,000,000+\n",
      "Mr. Number-Block calls & spam 10,000,000+\n",
      "Should I Answer? 1,000,000+\n",
      "RocketDial Dialer & Contacts 1,000,000+\n",
      "CIA - Caller ID & Call Blocker 5,000,000+\n",
      "Calls Blacklist - Call Blocker 10,000,000+\n",
      "Call Control - Call Blocker 5,000,000+\n",
      "True Contact - Real Caller ID 1,000,000+\n",
      "Video Caller Id 1,000,000+\n",
      "Sync.ME – Caller ID & Block 5,000,000+\n",
      "Burner - Free Phone Number 1,000,000+\n",
      "Caller ID + 1,000,000+\n",
      "Gmail 1,000,000,000+\n",
      "K-9 Mail 5,000,000+\n",
      "myMail – Email for Hotmail, Gmail and Outlook Mail 10,000,000+\n",
      "Email TypeApp - Mail App 1,000,000+\n",
      "All Email Providers 1,000,000+\n",
      "Newton Mail - Email App for Gmail, Outlook, IMAP 1,000,000+\n",
      "GO Notifier 10,000,000+\n",
      "Mail.Ru - Email App 50,000,000+\n",
      "Mail1Click - Secure Mail 10,000+\n",
      "Daum Mail - Next Mail 5,000,000+\n",
      "mail.com mail 1,000,000+\n",
      "SolMail - All-in-One email app 500,000+\n",
      "Hangouts 1,000,000,000+\n",
      "Vonage Mobile® Call Video Text 1,000,000+\n",
      "JusTalk - Free Video Calls and Fun Video Chat 5,000,000+\n",
      "Azar 50,000,000+\n",
      "LokLok: Draw on a Lock Screen 500,000+\n",
      "Discord - Chat for Gamers 10,000,000+\n",
      "Messenger Lite: Free Calls & Messages 100,000,000+\n",
      "AntennaPict β 1,000,000+\n",
      "Talkatone: Free Texts, Calls & Phone Number 10,000,000+\n",
      "Kik 100,000,000+\n",
      "K-@ Mail - Email App 100,000+\n",
      "KakaoTalk: Free Calls & Text 100,000,000+\n",
      "K-9 Material (unofficial) 5,000+\n",
      "M star Dialer 100,000+\n",
      "Free WiFi Connect 10,000,000+\n",
      "m:go BiH 10,000+\n",
      "N-Com Wizard 50,000+\n",
      "Opera Mini - fast web browser 100,000,000+\n",
      "Opera Browser: Fast and Secure 100,000,000+\n",
      "Opera Mini browser beta 10,000,000+\n",
      "Psiphon Pro - The Internet Freedom VPN 10,000,000+\n",
      "ICQ — Video Calls & Chat Messenger 10,000,000+\n",
      "Telegram 100,000,000+\n",
      "AT&T Messages for Tablet 1,000,000+\n",
      "T-Mobile DIGITS 100,000+\n",
      "Truecaller: Caller ID, SMS spam blocking & Dialer 100,000,000+\n",
      "Portable Wi-Fi hotspot 10,000,000+\n",
      "AT&T Call Protect 5,000,000+\n",
      "U - Webinars, Meetings & Messenger 500,000+\n",
      "UC Browser Mini -Tiny Fast Private & Secure 100,000,000+\n",
      "/u/app 10,000+\n",
      "[verify-U] VideoIdent 10,000+\n",
      "Viber Messenger 500,000,000+\n",
      "WeChat 100,000,000+\n",
      "WhatsApp Business 10,000,000+\n",
      "WhatsCall Free Global Phone Call App & Cheap Calls 10,000,000+\n",
      "X Browser 50,000+\n",
      "Yahoo Mail – Stay Organized 100,000,000+\n",
      "Free Adblocker Browser - Adblock & Popup Blocker 10,000,000+\n",
      "Adblock Browser for Android 10,000,000+\n",
      "CM Browser - Ad Blocker , Fast Download , Privacy 50,000,000+\n",
      "Adblock Plus for Samsung Internet - Browse safe. 1,000,000+\n",
      "Ad Blocker Turbo - Adblocker Browser 10,000+\n",
      "Brave Browser: Fast AdBlocker 5,000,000+\n",
      "AG Contacts, Lite edition 5,000+\n",
      "Oklahoma Ag Co-op Council 10+\n",
      "Bee'ah Employee App 100+\n",
      "tournaments and more.aj.2 100+\n",
      "Aj.Petra 100+\n",
      "AK Phone 5,000+\n",
      "PlacarTv Futebol Ao Vivo 100,000+\n",
      "WiFi Access Point (hotspot) 100,000+\n",
      "Access Point Names 10,000+\n",
      "Puffin Web Browser 10,000,000+\n",
      "ClanHQ 10,000+\n",
      "Ear Agent: Super Hearing 5,000,000+\n",
      "Google Voice 10,000,000+\n",
      "Google Allo 10,000,000+\n",
      "AU Call Blocker - Block Unwanted Calls Texts 2018 1,000+\n",
      "Baby Monitor AV 100,000+\n",
      "AV Phone 1,000+\n",
      "AW - free video calls and chat 1,000,000+\n",
      "Katalogen.ax 100+\n",
      "AZ Browser. Private & Download 100,000+\n",
      "BA SALES 1+\n",
      "BD Data Plan (3G & 4G) 500,000+\n",
      "BD Internet Packages (Updated) 50,000+\n",
      "BD Dialer 10,000+\n",
      "BD Live Call 5,000+\n",
      "Best Browser BD social networking 10+\n",
      "Traffic signs BD 500+\n",
      "BF Browser by Betfilter - Stop Gambling Today! 10,000+\n",
      "My BF App 50,000+\n",
      "BH Mail 1,000+\n",
      "Zalo – Video Call 50,000,000+\n",
      "BJ - Confidential 10+\n",
      "BK Chat 1,000+\n",
      "Of the wall Arapaho bk 5+\n",
      "AC-BL 50+\n",
      "BBM - Free Calls & Messages 100,000,000+\n",
      "DMR BrandMeister Tool 10,000+\n",
      "BBMoji - Your personalized BBM Stickers 1,000,000+\n",
      "BN MALLORCA Radio 1,000+\n",
      "BQ Partners 1,000+\n",
      "BS-Mobile 50+\n",
      "ATC Unico BS 500+\n",
      "BT One Voice mobile access 5,000+\n",
      "BT Messenger 50,000+\n",
      "BT One Phone Mobile App 10,000+\n",
      "SW-100.tch by Callstel 1,000,000+\n",
      "BT MeetMe with Dolby Voice 100,000+\n",
      "Bluetooth Auto Connect 5,000,000+\n",
      "AudioBT: BT audio GPS/SMS/Text 50,000+\n",
      "BV 100+\n",
      "Feel Performer 10,000+\n",
      "Tiny Call Confirm 1,000,000+\n",
      "CB Radio Chat - for friends! 1,000,000+\n",
      "CB On Mobile 100,000+\n",
      "Virtual Walkie Talkie 1,000,000+\n",
      "Channel 19 100,000+\n",
      "Cb browser 50+\n",
      "CF Chat: Connecting Friends 100+\n",
      "retteMi.ch 5,000+\n",
      "Chrome Dev 5,000,000+\n",
      "CJ Browser - Fast & Private 100+\n",
      "CJ DVD Rentals 100+\n",
      "CK Call NEW 10+\n",
      "CM Transfer - Share any files with friends nearby 5,000,000+\n",
      "mail.co.uk Mail 5,000+\n",
      "ClanPlay: Community and Tools for Gamers 1,000,000+\n",
      "CQ-Mobile 1,000+\n",
      "CQ-Alert 500+\n",
      "QRZ Assistant 100,000+\n",
      "Pocket Prefix Plus 10,000+\n",
      "Ham Radio Prefixes 10,000+\n",
      "CS Customizer 1,000+\n",
      "CS Browser | #1 & BEST BROWSER 1,000+\n",
      "CS Browser Beta 5,000+\n",
      "My Vodafone (GR) 1,000,000+\n",
      "IZ2UUF Morse Koch CW 50,000+\n",
      "C W Browser 100+\n",
      "CW Bluetooth SPP 100+\n",
      "CW BLE Peripheral Simulator 500+\n",
      "Morse Code Reader 100,000+\n",
      "Learn Morse Code - G0HYN Learn Morse 5,000+\n",
      "Ring 10,000+\n",
      "Hyundai CX Conference 50+\n",
      "Cy Messenger 100+\n",
      "Amadeus GR & CY 100+\n",
      "Hlášenírozhlasu.cz 10+\n",
      "SMS Sender - sluzba.cz 1,000+\n",
      "WEB.DE Mail 10,000,000+\n",
      "Your Freedom VPN Client 5,000,000+\n",
      "CallApp: Caller ID, Blocker & Phone Call Recorder 10,000,000+\n",
      "Rádio Sol Nascente DF 500+\n",
      "DG Card 100+\n",
      "Whoscall - Caller ID & Block 10,000,000+\n",
      "DK Browser 10+\n",
      "cluster.dk 1,000+\n",
      "DK TEL Dialer 50+\n",
      "DM for WhatsApp 5,000+\n",
      "DM Talk New 5,000+\n",
      "DM - The Offical Messaging App 10+\n",
      "DM Tracker 1,000+\n",
      "Call Blocker & Blacklist 1,000+\n",
      "ReadyOp DT 1,000+\n",
      "DU Browser—Browse fast & fun 10,000,000+\n",
      "Caller ID & Call Block - DU Caller 5,000,000+\n",
      "BlueDV AMBE 1,000+\n",
      "DW Contacts & Phone & Dialer 1,000,000+\n",
      "Deaf World DW 10,000+\n",
      "Ham DX Cluster & Spots Finder 5,000+\n",
      "Mircules DX Cluster Lite 5,000+\n",
      "3G DZ Configuration 50,000+\n",
      "chat dz 100+\n",
      "love sms good morning 5,000+\n",
      "Goodbox - Mega App 100,000+\n",
      "Call Blocker - Blacklist, SMS Blocker 1,000,000+\n",
      "[EF]ShoutBox 100+\n",
      "Eg Call 10,000+\n",
      "ei 10+\n",
      "EJ messenger 10+\n",
      "Ek IRA 10+\n",
      "Orfox: Tor Browser for Android 10,000,000+\n",
      "EO Mumbai 10+\n",
      "EP RSS Reader 100+\n",
      "Voxer Walkie Talkie Messenger 10,000,000+\n",
      "ES-1 500+\n",
      "Hangouts Dialer - Call Phones 10,000,000+\n",
      "EU Council 1,000+\n",
      "Council Voting Calculator 5,000+\n",
      "Have your say on Europe 500+\n",
      "Programi podrške EU 100+\n",
      "Inbox.eu 10,000+\n",
      "Web Browser for Android 1,000,000+\n",
      "Everbridge 100,000+\n",
      "Best Auto Call Recorder Free 500+\n",
      "EZ Wifi Notification 10,000+\n",
      "Test Server SMS FA 5+\n",
      "Lite for Facebook Messenger 1,000,000+\n",
      "FC Browser - Focus Privacy Browser 1,000+\n",
      "EHiN-FH conferenceapp 100+\n",
      "Carpooling FH Hagenberg 100+\n",
      "Wi-Fi Auto-connect 1,000,000+\n",
      "Talkie - Wi-Fi Calling, Chats, File Sharing 500,000+\n",
      "WeFi - Free Fast WiFi Connect & Find Wi-Fi Map 1,000,000+\n",
      "Sat-Fi 5,000+\n",
      "Portable Wi-Fi hotspot Free 100,000+\n",
      "TownWiFi | Wi-Fi Everywhere 500,000+\n",
      "Jazz Wi-Fi 10,000+\n",
      "Sat-Fi Voice 1,000+\n",
      "Free Wi-fi HotspoT 50,000+\n",
      "FN Web Radio 10+\n",
      "FNH Payment Info 10+\n",
      "MARKET FO 100+\n",
      "FO OP St-Nazaire 100+\n",
      "FO SODEXO 100+\n",
      "FO RCBT 100+\n",
      "FO Interim 100+\n",
      "FO PSA Sept-Fons 100+\n",
      "FO AIRBUS TLSE 1,000+\n",
      "FO STELIA Méaulte 100+\n",
      "FO AIRBUS Nantes 100+\n",
      "Firefox Focus: The privacy browser 1,000,000+\n",
      "FP Connect 100+\n",
      "FreedomPop Messaging Phone/SIM 500,000+\n",
      "FP Live 10+\n",
      "HipChat - beta version 50,000+\n",
      "3.2378158844765346\n"
     ]
    }
   ],
   "source": [
    "for row in android_free:\n",
    "    if row[1] == 'COMMUNICATION':\n",
    "        print(row[0], row[5])\n",
    "print(android_genres['COMMUNICATION'])"
   ]
  },
  {
   "cell_type": "markdown",
   "metadata": {},
   "source": []
  }
 ],
 "metadata": {
  "kernelspec": {
   "display_name": "Python 3",
   "language": "python",
   "name": "python3"
  },
  "language_info": {
   "codemirror_mode": {
    "name": "ipython",
    "version": 3
   },
   "file_extension": ".py",
   "mimetype": "text/x-python",
   "name": "python",
   "nbconvert_exporter": "python",
   "pygments_lexer": "ipython3",
   "version": "3.8.2"
  }
 },
 "nbformat": 4,
 "nbformat_minor": 2
}
